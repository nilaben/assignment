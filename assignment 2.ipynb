{
 "cells": [
  {
   "cell_type": "markdown",
   "id": "2e64ee47",
   "metadata": {},
   "source": [
    "## Q.1  Write program to find first n positive integer "
   ]
  },
  {
   "cell_type": "code",
   "execution_count": 1,
   "id": "14f109da",
   "metadata": {},
   "outputs": [
    {
     "name": "stdout",
     "output_type": "stream",
     "text": [
      "1\n",
      "2\n",
      "3\n",
      "4\n",
      "5\n"
     ]
    }
   ],
   "source": [
    "i = 1\n",
    "while i < 6:\n",
    "  print(i)\n",
    "  i += 1\n"
   ]
  },
  {
   "cell_type": "markdown",
   "id": "21366d3a",
   "metadata": {},
   "source": [
    " ## Q-5 Write a python program to add “ing” at the end of a given string(lenth should be 3). "
   ]
  },
  {
   "cell_type": "markdown",
   "id": "c104d229",
   "metadata": {},
   "source": []
  },
  {
   "cell_type": "code",
   "execution_count": 5,
   "id": "4077954d",
   "metadata": {},
   "outputs": [
    {
     "name": "stdout",
     "output_type": "stream",
     "text": [
      "walking\n"
     ]
    }
   ],
   "source": [
    "a= \"walk\"\n",
    "b=\"ing\"\n",
    "c= a +b\n",
    "print(c)"
   ]
  },
  {
   "cell_type": "markdown",
   "id": "c72f9578",
   "metadata": {},
   "source": [
    "## Q-2 write a program to count occurence of a substring in a string"
   ]
  },
  {
   "cell_type": "code",
   "execution_count": 6,
   "id": "096aa664",
   "metadata": {},
   "outputs": [
    {
     "name": "stdout",
     "output_type": "stream",
     "text": [
      "1\n"
     ]
    }
   ],
   "source": [
    "string=\"python is awesome isn't it\"\n",
    "substring=\"awesome\"\n",
    "count=string.count(substring)\n",
    "print(count)"
   ]
  },
  {
   "cell_type": "markdown",
   "id": "3fe02e4d",
   "metadata": {},
   "source": [
    "##  Q-3 write a program to count occurence of each word in a given sentence."
   ]
  },
  {
   "cell_type": "code",
   "execution_count": 9,
   "id": "8ac976b6",
   "metadata": {},
   "outputs": [
    {
     "name": "stdout",
     "output_type": "stream",
     "text": [
      "1\n"
     ]
    }
   ],
   "source": [
    "txt=\"I love apples, apples are my favourite fruit\"\n",
    "x = txt.count(\"apples\",10, 24)\n",
    "print(x)"
   ]
  },
  {
   "cell_type": "markdown",
   "id": "83fa66f5",
   "metadata": {},
   "source": [
    "## Q-4 write a program to get single string from two given string,separated by a space and swap the first two character of each string"
   ]
  },
  {
   "cell_type": "code",
   "execution_count": 17,
   "id": "0d275f30",
   "metadata": {},
   "outputs": [
    {
     "name": "stdout",
     "output_type": "stream",
     "text": [
      "My name is john I am Good\n"
     ]
    }
   ],
   "source": [
    "a= \"My name is john {}\"\n",
    "b= \"I am Good\"\n",
    "print(a.format(b))"
   ]
  },
  {
   "cell_type": "code",
   "execution_count": 18,
   "id": "7a106b38",
   "metadata": {},
   "outputs": [
    {
     "name": "stdout",
     "output_type": "stream",
     "text": [
      "I name is john {}\n"
     ]
    }
   ],
   "source": [
    "print(a.replace(\"My\", \"I\"))"
   ]
  },
  {
   "cell_type": "code",
   "execution_count": 19,
   "id": "83b6bf5f",
   "metadata": {},
   "outputs": [
    {
     "name": "stdout",
     "output_type": "stream",
     "text": [
      "My am Good\n"
     ]
    }
   ],
   "source": [
    "print(b.replace(\"I\",\"My\"))"
   ]
  },
  {
   "cell_type": "markdown",
   "id": "abdfbd1b",
   "metadata": {},
   "source": [
    "## Q-13 write a python program to sort a "
   ]
  }
 ],
 "metadata": {
  "kernelspec": {
   "display_name": "Python 3 (ipykernel)",
   "language": "python",
   "name": "python3"
  },
  "language_info": {
   "codemirror_mode": {
    "name": "ipython",
    "version": 3
   },
   "file_extension": ".py",
   "mimetype": "text/x-python",
   "name": "python",
   "nbconvert_exporter": "python",
   "pygments_lexer": "ipython3",
   "version": "3.9.12"
  }
 },
 "nbformat": 4,
 "nbformat_minor": 5
}
